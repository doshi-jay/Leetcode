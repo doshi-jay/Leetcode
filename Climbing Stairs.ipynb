{
 "cells": [
  {
   "cell_type": "markdown",
   "metadata": {},
   "source": [
    "# 70. Climbing Stairs"
   ]
  },
  {
   "cell_type": "markdown",
   "metadata": {},
   "source": [
    "You are climbing a stair case. It takes n steps to reach to the top.\n",
    "\n",
    "Each time you can either climb 1 or 2 steps. In how many distinct ways can you climb to the top?\n",
    "\n",
    "Note: Given n will be a positive integer.\n",
    "\n",
    "Example 1:\n",
    "\n",
    "<code>\n",
    "Input: 2\n",
    "Output: 2</code>\n",
    "\n",
    "<code>Explanation: There are two ways to climb to the top.</code>\n",
    "<code>1. 1 step + 1 step</code>\n",
    "<code>2. 2 steps</code>\n",
    "\n",
    "Example 2:\n",
    "\n",
    "<code>\n",
    "Input: 3\n",
    "Output: 3</code>\n",
    "<code>Explanation: There are three ways to climb to the top.</code><br>\n",
    "<code>1. 1 step + 1 step + 1 step</code>\n",
    "<code>2. 1 step + 2 steps</code>\n",
    "<code>3. 2 steps + 1 step</code>"
   ]
  },
  {
   "cell_type": "code",
   "execution_count": 2,
   "metadata": {},
   "outputs": [],
   "source": [
    "class Solution:\n",
    "    def climbStairs(self, n: int) -> int:\n",
    "        if n == 1:\n",
    "            return 1\n",
    "        \n",
    "        stair_count = [0 for i in range(n+1)]\n",
    "        stair_count[1] = 1\n",
    "        stair_count[2] = 2\n",
    "        \n",
    "        for stair in range(3, n+1):\n",
    "            stair_count[stair] = stair_count[stair-1] + stair_count[stair-2] \n",
    "        \n",
    "        return stair_count[n]"
   ]
  },
  {
   "cell_type": "markdown",
   "metadata": {},
   "source": [
    "Runtime: 28 ms, faster than 97.46% of Python3 online submissions for Climbing Stairs.<br>\n",
    "Memory Usage: 13.1 MB, less than 80.81% of Python3 online submissions for Climbing Stairs."
   ]
  },
  {
   "cell_type": "code",
   "execution_count": null,
   "metadata": {},
   "outputs": [],
   "source": []
  }
 ],
 "metadata": {
  "kernelspec": {
   "display_name": "Python 3",
   "language": "python",
   "name": "python3"
  },
  "language_info": {
   "codemirror_mode": {
    "name": "ipython",
    "version": 3
   },
   "file_extension": ".py",
   "mimetype": "text/x-python",
   "name": "python",
   "nbconvert_exporter": "python",
   "pygments_lexer": "ipython3",
   "version": "3.7.0"
  }
 },
 "nbformat": 4,
 "nbformat_minor": 2
}
