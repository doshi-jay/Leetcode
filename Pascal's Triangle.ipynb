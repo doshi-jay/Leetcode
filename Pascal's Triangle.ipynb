{
 "cells": [
  {
   "cell_type": "markdown",
   "metadata": {},
   "source": [
    "# 118. Pascal's Triangle"
   ]
  },
  {
   "cell_type": "raw",
   "metadata": {},
   "source": [
    "Given a non-negative integer numRows, generate the first numRows of Pascal's triangle.\n",
    "\n",
    "\n",
    "In Pascal's triangle, each number is the sum of the two numbers directly above it.\n",
    "\n",
    "Example:\n",
    "\n",
    "Input: 5\n",
    "Output:\n",
    "[\n",
    "     [1],\n",
    "    [1,1],\n",
    "   [1,2,1],\n",
    "  [1,3,3,1],\n",
    " [1,4,6,4,1]\n",
    "]\n",
    "\n",
    "https://leetcode.com/problems/pascals-triangle/"
   ]
  },
  {
   "cell_type": "code",
   "execution_count": 3,
   "metadata": {},
   "outputs": [],
   "source": [
    "class Solution:\n",
    "    def generate(self, numRows: int):\n",
    "        side_buffer = 0\n",
    "        first_row  = [1]\n",
    "        second_row = [1, 1]\n",
    "        triangle = [first_row]\n",
    "        \n",
    "        if numRows == 0:\n",
    "            return list()\n",
    "        elif numRows == 1:\n",
    "            return triangle\n",
    "        elif numRows == 2:\n",
    "            triangle.append(second_row)\n",
    "            return triangle\n",
    "        else:\n",
    "            triangle = [first_row, second_row]\n",
    "            for row_num in range(2, numRows):\n",
    "                padded_upper_row = [0] + triangle[-1] + [0]\n",
    "                new_row = []\n",
    "                for i in range(row_num + 1):\n",
    "                    new_row.append(padded_upper_row[i] + padded_upper_row[i+1])\n",
    "                triangle.append(new_row)\n",
    "                \n",
    "        return triangle"
   ]
  },
  {
   "cell_type": "markdown",
   "metadata": {},
   "source": [
    "Runtime: 36 ms, faster than 77.88% of Python3 online submissions for Pascal's Triangle.<br>\n",
    "Memory Usage: 13.2 MB, less than 34.25% of Python3 online submissions for Pascal's Triangle."
   ]
  }
 ],
 "metadata": {
  "kernelspec": {
   "display_name": "Python 3",
   "language": "python",
   "name": "python3"
  },
  "language_info": {
   "codemirror_mode": {
    "name": "ipython",
    "version": 3
   },
   "file_extension": ".py",
   "mimetype": "text/x-python",
   "name": "python",
   "nbconvert_exporter": "python",
   "pygments_lexer": "ipython3",
   "version": "3.7.0"
  }
 },
 "nbformat": 4,
 "nbformat_minor": 2
}
