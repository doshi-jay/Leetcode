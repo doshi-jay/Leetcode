{
 "cells": [
  {
   "cell_type": "markdown",
   "metadata": {},
   "source": [
    "# Remove Nth Node From End of List"
   ]
  },
  {
   "cell_type": "markdown",
   "metadata": {},
   "source": [
    "Given a linked list, remove the n-th node from the end of list and return its head.\n",
    "\n",
    "Example:\n",
    "\n",
    "<code>Given linked list: 1->2->3->4->5, and n = 2.\n",
    "\n",
    "After removing the second node from the end, the linked list becomes 1->2->3->5.</code>\n",
    "\n",
    "Note:\n",
    "\n",
    "Given n will always be valid.\n",
    "\n",
    "Follow up:\n",
    "\n",
    "Could you do this in one pass?\n"
   ]
  },
  {
   "cell_type": "raw",
   "metadata": {},
   "source": [
    "/**\n",
    " * Definition for singly-linked list.\n",
    " * struct ListNode {\n",
    " *     int val;\n",
    " *     ListNode *next;\n",
    " *     ListNode(int x) : val(x), next(NULL) {}\n",
    " * };\n",
    " */\n",
    " \n",
    "class Solution {\n",
    "public:\n",
    "    ListNode* removeNthFromEnd(ListNode* head, int n) {\n",
    "        ListNode* headReference = head;\n",
    "        int m = n;\n",
    "        \n",
    "        ListNode* actHead = head;\n",
    "        while (m > 0) {\n",
    "            headReference = headReference->next;\n",
    "            m--;\n",
    "        }\n",
    "        \n",
    "        ListNode* prev = NULL;\n",
    "        while(headReference != NULL) {\n",
    "            headReference = headReference->next;\n",
    "            prev = head;\n",
    "            head = head->next;\n",
    "        }\n",
    "        if (prev == NULL)\n",
    "            return head->next;\n",
    "        \n",
    "        prev->next = head->next;\n",
    "        return actHead;\n",
    "        \n",
    "    }\n",
    "};"
   ]
  },
  {
   "cell_type": "markdown",
   "metadata": {},
   "source": [
    "The solution is in C++, so we can take advantage of pointers to improve efficiency"
   ]
  },
  {
   "cell_type": "raw",
   "metadata": {},
   "source": [
    "Runtime: 4 ms, faster than 98.20% of C++ online submissions for Remove Nth Node From End of List.\n",
    "Memory Usage: 8.5 MB, less than 85.21% of C++ online submissions for Remove Nth Node From End of List."
   ]
  }
 ],
 "metadata": {
  "kernelspec": {
   "display_name": "Python 3",
   "language": "python",
   "name": "python3"
  },
  "language_info": {
   "codemirror_mode": {
    "name": "ipython",
    "version": 3
   },
   "file_extension": ".py",
   "mimetype": "text/x-python",
   "name": "python",
   "nbconvert_exporter": "python",
   "pygments_lexer": "ipython3",
   "version": "3.7.0"
  }
 },
 "nbformat": 4,
 "nbformat_minor": 2
}
