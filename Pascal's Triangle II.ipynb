{
 "cells": [
  {
   "cell_type": "markdown",
   "metadata": {},
   "source": [
    "# 119. Pascal's Triangle II"
   ]
  },
  {
   "cell_type": "markdown",
   "metadata": {},
   "source": [
    "Given a non-negative index k where k ≤ 33, return the kth index row of the Pascal's triangle.\n",
    "\n",
    "Note that the row index starts from 0.\n",
    "\n",
    "\n",
    "In Pascal's triangle, each number is the sum of the two numbers directly above it.\n",
    "\n",
    "Example:\n",
    "\n",
    "<code>Input: 3\n",
    "Output: [1,3,3,1]\n",
    "</code>\n",
    "\n",
    "Follow up:\n",
    "\n",
    "Could you optimize your algorithm to use only O(k) extra space?"
   ]
  },
  {
   "cell_type": "code",
   "execution_count": 2,
   "metadata": {},
   "outputs": [],
   "source": [
    "class Solution:\n",
    "    def generate(self, numRows: int):\n",
    "        \n",
    "        if numRows == 0:\n",
    "            return list()\n",
    "        elif numRows == 1:\n",
    "            return [1]\n",
    "        elif numRows == 2:\n",
    "            return [1, 1]\n",
    "        else:\n",
    "            new_row = [1, 1]\n",
    "            for row_num in range(2, numRows):\n",
    "                padded_upper_row = [0] + new_row + [0]\n",
    "                new_row = []\n",
    "                for i in range(row_num + 1):\n",
    "                    new_row.append(padded_upper_row[i] + padded_upper_row[i+1])\n",
    "                \n",
    "                \n",
    "            return new_row\n",
    "    \n",
    "    def getRow(self, rowIndex: int):\n",
    "        return self.generate(rowIndex+1)"
   ]
  },
  {
   "cell_type": "markdown",
   "metadata": {},
   "source": [
    "Runtime: 36 ms, faster than 78.55% of Python3 online submissions for Pascal's Triangle II.<br>\n",
    "Memory Usage: 13.2 MB, less than 52.94% of Python3 online submissions for Pascal's Triangle II."
   ]
  },
  {
   "cell_type": "code",
   "execution_count": null,
   "metadata": {},
   "outputs": [],
   "source": []
  }
 ],
 "metadata": {
  "kernelspec": {
   "display_name": "Python 3",
   "language": "python",
   "name": "python3"
  },
  "language_info": {
   "codemirror_mode": {
    "name": "ipython",
    "version": 3
   },
   "file_extension": ".py",
   "mimetype": "text/x-python",
   "name": "python",
   "nbconvert_exporter": "python",
   "pygments_lexer": "ipython3",
   "version": "3.7.0"
  }
 },
 "nbformat": 4,
 "nbformat_minor": 2
}
