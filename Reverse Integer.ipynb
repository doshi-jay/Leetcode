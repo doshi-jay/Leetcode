{
 "cells": [
  {
   "cell_type": "markdown",
   "metadata": {},
   "source": [
    "# Reverse Integer"
   ]
  },
  {
   "cell_type": "markdown",
   "metadata": {},
   "source": [
    "Given a 32-bit signed integer, reverse digits of an integer.\n",
    "\n",
    "<code>Example 1:\n",
    "\n",
    "Input: 123\n",
    "Output: 321 </code>\n",
    "\n",
    "<code>Example 2:\n",
    "\n",
    "Input: -123\n",
    "Output: -321</code>\n",
    "\n",
    "<code>Example 3:\n",
    "\n",
    "Input: 120\n",
    "Output: 21</code>\n",
    "\n",
    "Note:\n",
    "Assume we are dealing with an environment which could only store integers within the 32-bit signed integer range: [−231,  231 − 1]. \n",
    "<br>For the purpose of this problem, assume that your function returns 0 when the reversed integer overflows.\n"
   ]
  },
  {
   "cell_type": "code",
   "execution_count": 2,
   "metadata": {},
   "outputs": [],
   "source": [
    "class Solution:\n",
    "    def reverse(self, x):\n",
    "        \"\"\"\n",
    "        :type x: int\n",
    "        :rtype: int\n",
    "        \"\"\"\n",
    "        \n",
    "        isNeg = False\n",
    "        str_x = str(x)\n",
    "        if x < 0:\n",
    "            isNeg = True\n",
    "            str_x = str_x[1:]\n",
    "          \n",
    "        \n",
    "        str_x = str_x[::-1]\n",
    "        \n",
    "        if str_x[0] == '0' and len(str_x) > 1:\n",
    "            str_x = str_x[1:]\n",
    "        \n",
    "        if int(str_x) > (2**31 - 1):\n",
    "            return 0\n",
    "        \n",
    "        return int(str_x) if not isNeg else -int(str_x)\n",
    "        "
   ]
  },
  {
   "cell_type": "markdown",
   "metadata": {},
   "source": [
    "Runtime: 32 ms, faster than 99.04% of Python3 online submissions for Reverse Integer.\n",
    "Memory Usage: 13.4 MB, less than 10.61% of Python3 online submissions for Reverse Integer."
   ]
  }
 ],
 "metadata": {
  "kernelspec": {
   "display_name": "Python 3",
   "language": "python",
   "name": "python3"
  },
  "language_info": {
   "codemirror_mode": {
    "name": "ipython",
    "version": 3
   },
   "file_extension": ".py",
   "mimetype": "text/x-python",
   "name": "python",
   "nbconvert_exporter": "python",
   "pygments_lexer": "ipython3",
   "version": "3.7.0"
  }
 },
 "nbformat": 4,
 "nbformat_minor": 2
}
