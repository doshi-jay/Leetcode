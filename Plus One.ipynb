{
 "cells": [
  {
   "cell_type": "markdown",
   "metadata": {},
   "source": [
    "# 66. Plus One"
   ]
  },
  {
   "cell_type": "markdown",
   "metadata": {},
   "source": [
    "Given a non-empty array of digits representing a non-negative integer, plus one to the integer.\n",
    "\n",
    "The digits are stored such that the most significant digit is at the head of the list, and each element in the array contain a single digit.\n",
    "\n",
    "You may assume the integer does not contain any leading zero, except the number 0 itself.\n",
    "\n",
    "Example 1:\n",
    "\n",
    "<code>Input: [1,2,3]\n",
    "Output: [1,2,4]</code><br>\n",
    "Explanation: The array represents the integer 123.\n",
    "\n",
    "Example 2:\n",
    "\n",
    "<code>Input: [4,3,2,1]\n",
    "Output: [4,3,2,2]</code><br>\n",
    "Explanation: The array represents the integer 4321.\n"
   ]
  },
  {
   "cell_type": "code",
   "execution_count": 3,
   "metadata": {},
   "outputs": [],
   "source": [
    "class Solution:\n",
    "    def plusOne(self, digits):\n",
    "        \n",
    "        index = len(digits) - 1\n",
    "        while True:\n",
    "            if digits[index] == 9:\n",
    "                if index - 1 < 0:\n",
    "                    return [1] + [0 for i in range(len(digits))]\n",
    "                else:\n",
    "                    digits[index] = 0\n",
    "                    index -= 1   \n",
    "            else:\n",
    "                digits[index] += 1\n",
    "                return digits\n",
    "        "
   ]
  },
  {
   "cell_type": "markdown",
   "metadata": {},
   "source": [
    "Runtime: 32 ms, faster than 94.12% of Python3 online submissions for Plus One.<br>\n",
    "Memory Usage: 13.2 MB, less than 55.17% of Python3 online submissions for Plus One."
   ]
  }
 ],
 "metadata": {
  "kernelspec": {
   "display_name": "Python 3",
   "language": "python",
   "name": "python3"
  },
  "language_info": {
   "codemirror_mode": {
    "name": "ipython",
    "version": 3
   },
   "file_extension": ".py",
   "mimetype": "text/x-python",
   "name": "python",
   "nbconvert_exporter": "python",
   "pygments_lexer": "ipython3",
   "version": "3.7.0"
  }
 },
 "nbformat": 4,
 "nbformat_minor": 2
}
