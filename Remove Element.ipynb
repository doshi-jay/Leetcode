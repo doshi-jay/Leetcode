{
 "cells": [
  {
   "cell_type": "markdown",
   "metadata": {},
   "source": [
    "# 27. Remove Element"
   ]
  },
  {
   "cell_type": "markdown",
   "metadata": {},
   "source": [
    "Given an array nums and a value val, remove all instances of that value in-place and return the new length.\n",
    "\n",
    "Do not allocate extra space for another array, you must do this by modifying the input array in-place with O(1) extra memory.\n",
    "\n",
    "The order of elements can be changed. It doesn't matter what you leave beyond the new length.\n",
    "\n",
    "Example 1:\n",
    "\n",
    "<code>Given nums = [3,2,2,3], val = 3,\n",
    "Your function should return length = 2, with the first two elements of nums being 2.\n",
    "It doesn't matter what you leave beyond the returned length.</code>\n",
    "\n",
    "Example 2:\n",
    "\n",
    "<code>Given nums = [0,1,2,2,3,0,4,2], val = 2,\n",
    "Your function should return length = 5, with the first five elements of nums containing 0, 1, 3, 0, and 4.\n",
    "Note that the order of those five elements can be arbitrary.\n",
    "It doesn't matter what values are set beyond the returned length.</code>\n",
    "\n",
    "<b>Clarification:</b>\n",
    "\n",
    "Confused why the returned value is an integer but your answer is an array?\n",
    "\n",
    "Note that the input array is passed in by reference, which means modification to the input array will be known to the caller as well.\n",
    "\n",
    "<code>Internally you can think of this:\n",
    "\n",
    "// nums is passed in by reference. (i.e., without making a copy)\n",
    "int len = removeElement(nums, val);\n",
    "\n",
    "// any modification to nums in your function would be known by the caller.\n",
    "// using the length returned by your function, it prints the first len elements.\n",
    "for (int i = 0; i < len; i++) {\n",
    "    print(nums[i]);\n",
    "}</code>\n",
    "\n"
   ]
  },
  {
   "cell_type": "code",
   "execution_count": 2,
   "metadata": {},
   "outputs": [],
   "source": [
    "class Solution:\n",
    "    def removeElement(self, nums, val):\n",
    "        len_nums = len(nums)\n",
    "        \n",
    "        index = 0\n",
    "        while  index < len_nums:\n",
    "            if nums[index] != val:\n",
    "                index += 1 \n",
    "                # continue\n",
    "            else:\n",
    "                forward_index = index + 1\n",
    "                while forward_index < len_nums:\n",
    "                    if nums[forward_index] != val:\n",
    "                        break\n",
    "                    else:\n",
    "                    \n",
    "                        forward_index += 1\n",
    "            \n",
    "                if forward_index == len_nums:\n",
    "                    return index\n",
    "                else:\n",
    "                    temp = nums[index]\n",
    "                    nums[index] = nums[forward_index]\n",
    "                    nums[forward_index] = temp\n",
    "                index += 1\n",
    "                    "
   ]
  },
  {
   "cell_type": "markdown",
   "metadata": {},
   "source": [
    "Runtime: 32 ms, faster than 94.75% of Python3 online submissions for Remove Element.<br>\n",
    "Memory Usage: 13.3 MB, less than 10.67% of Python3 online submissions for Remove Element."
   ]
  }
 ],
 "metadata": {
  "kernelspec": {
   "display_name": "Python 3",
   "language": "python",
   "name": "python3"
  },
  "language_info": {
   "codemirror_mode": {
    "name": "ipython",
    "version": 3
   },
   "file_extension": ".py",
   "mimetype": "text/x-python",
   "name": "python",
   "nbconvert_exporter": "python",
   "pygments_lexer": "ipython3",
   "version": "3.7.0"
  }
 },
 "nbformat": 4,
 "nbformat_minor": 2
}
