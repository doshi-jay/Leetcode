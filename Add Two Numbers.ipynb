{
 "cells": [
  {
   "cell_type": "markdown",
   "metadata": {},
   "source": [
    "# Add Two Numbers"
   ]
  },
  {
   "cell_type": "markdown",
   "metadata": {},
   "source": [
    "You are given two non-empty linked lists representing two non-negative integers. The digits are stored in reverse order and each of their nodes contain a single digit. Add the two numbers and return it as a linked list.\n",
    "\n",
    "You may assume the two numbers do not contain any leading zero, except the number 0 itself.\n",
    "\n",
    "Example:\n",
    "\n",
    "<code>Input: (2 -> 4 -> 3) + (5 -> 6 -> 4) <br>\n",
    "Output: 7 -> 0 -> 8 <br>\n",
    "Explanation: 342 + 465 = 807.\n",
    "</code>"
   ]
  },
  {
   "cell_type": "code",
   "execution_count": 1,
   "metadata": {},
   "outputs": [],
   "source": [
    "# Definition for singly-linked list.\n",
    "# class ListNode(object):\n",
    "#     def __init__(self, x):\n",
    "#         self.val = x\n",
    "#         self.next = None\n",
    "\n",
    "class Solution(object):\n",
    "    def length(self, l):\n",
    "        # Now convert that list into linked list\n",
    "        dummyRoot = ListNode(0)\n",
    "        count = 0\n",
    "        ptr = l\n",
    "        while(ptr != None):\n",
    "            count = count + 1\n",
    "            ptr = ptr.next\n",
    "        return count\n",
    "    \n",
    "    def reverse(self, l):\n",
    "        d = ListNode(0)\n",
    "        d = l\n",
    "        l = l.next\n",
    "        d.next = None\n",
    "        while(l != None):\n",
    "            temp = ListNode(0)\n",
    "            temp.next = d\n",
    "            temp.val = l.val\n",
    "            d = temp\n",
    "            l = l.next\n",
    "        \n",
    "        return d\n",
    "    \n",
    "    def addTwoNumbers(self, l1, l2):\n",
    "        \"\"\"\n",
    "        :type l1: ListNode\n",
    "        :type l2: ListNode\n",
    "        :rtype: ListNode\n",
    "        \"\"\"\n",
    "        if self.length(l1) > self.length(l2):\n",
    "            #addElements(l2, length(l1) - length(l2))\n",
    "            p = l1\n",
    "            q = l2\n",
    "        else:\n",
    "            p = l2\n",
    "            q = l1\n",
    "        \n",
    "        if self.length(q) == 0:\n",
    "            return reverse(p)\n",
    "        x = p\n",
    "        y = q\n",
    "        carry = (x.val + y.val) / 10\n",
    "        rem = (x.val + y.val) % 10\n",
    "        c = ListNode(rem)\n",
    "        if x.next == None and carry > 0:\n",
    "            d = ListNode(carry)\n",
    "            c.next = d\n",
    "            return c\n",
    "        x = x.next\n",
    "        y = y.next\n",
    "        while(x != None):\n",
    "            d = ListNode(0)\n",
    "            temp = 0\n",
    "            if y != None: \n",
    "                temp = y.val\n",
    "            toAdd = x.val + temp + carry\n",
    "            rem = toAdd % 10\n",
    "            d.val = rem\n",
    "            carry = toAdd / 10\n",
    "            #print \"x val: \" + str(x.val) + \" y val: \" + str(y.val) + \" - \" + str(d.val)\n",
    "            d.next = c\n",
    "            c = d\n",
    "            x = x.next\n",
    "            if y != None:\n",
    "                y = y.next\n",
    "        if carry > 0: \n",
    "            d = ListNode(carry)\n",
    "            d.next = c\n",
    "            c = d\n",
    "        #print self.length(d)\n",
    "        return self.reverse(c)"
   ]
  },
  {
   "cell_type": "markdown",
   "metadata": {},
   "source": [
    "Runtime: 72 ms, faster than 39.25% of Python online submissions for Add Two Numbers.\n",
    "Memory Usage: 11.7 MB, less than 90.29% of Python online submissions for Add Two Numbers."
   ]
  },
  {
   "cell_type": "code",
   "execution_count": null,
   "metadata": {},
   "outputs": [],
   "source": []
  }
 ],
 "metadata": {
  "kernelspec": {
   "display_name": "Python 3",
   "language": "python",
   "name": "python3"
  },
  "language_info": {
   "codemirror_mode": {
    "name": "ipython",
    "version": 3
   },
   "file_extension": ".py",
   "mimetype": "text/x-python",
   "name": "python",
   "nbconvert_exporter": "python",
   "pygments_lexer": "ipython3",
   "version": "3.7.0"
  }
 },
 "nbformat": 4,
 "nbformat_minor": 2
}
