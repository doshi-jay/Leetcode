{
 "cells": [
  {
   "cell_type": "markdown",
   "metadata": {},
   "source": [
    "# 101. Symmetric Tree"
   ]
  },
  {
   "cell_type": "raw",
   "metadata": {},
   "source": [
    "Given a binary tree, check whether it is a mirror of itself (ie, symmetric around its center).\n",
    "\n",
    "For example, this binary tree [1,2,2,3,4,4,3] is symmetric:\n",
    "\n",
    "    1\n",
    "   / \\\n",
    "  2   2\n",
    " / \\ / \\\n",
    "3  4 4  3\n",
    "\n",
    " \n",
    "\n",
    "But the following [1,2,2,null,3,null,3] is not:\n",
    "\n",
    "    1\n",
    "   / \\\n",
    "  2   2\n",
    "   \\   \\\n",
    "   3    3"
   ]
  },
  {
   "cell_type": "code",
   "execution_count": 1,
   "metadata": {},
   "outputs": [],
   "source": [
    "# Definition for a binary tree node.\n",
    "class TreeNode:\n",
    "    def __init__(self, x):\n",
    "        self.val = x\n",
    "        self.left = None\n",
    "        self.right = None\n",
    "\n",
    "class Solution:\n",
    "    \n",
    "    def left_order(self, node):\n",
    "        if node is None:\n",
    "            return [None]\n",
    "        \n",
    "        elements = [node.val]\n",
    "        elements += self.left_order(node.left)\n",
    "        elements += self.left_order(node.right)\n",
    "        \n",
    "        return elements\n",
    "        \n",
    "    \n",
    "    def right_order(self, node):\n",
    "        if node is None:\n",
    "            return [None]\n",
    "        \n",
    "        elements = [node.val]\n",
    "        elements += self.right_order(node.right)\n",
    "        elements += self.right_order(node.left)\n",
    "        \n",
    "        return elements\n",
    "        \n",
    "    def isSymmetric(self, root: TreeNode) -> bool:\n",
    "        if root is None:\n",
    "            return True\n",
    "        \n",
    "        left = self.left_order(root.left)\n",
    "        right = self.right_order(root.right)\n",
    "        \n",
    "        for l, r in zip(left, right):\n",
    "            if l != r:\n",
    "                return False\n",
    "            \n",
    "        return True"
   ]
  },
  {
   "cell_type": "markdown",
   "metadata": {},
   "source": [
    "Runtime: 36 ms, faster than 91.75% of Python3 online submissions for Symmetric Tree.<br>\n",
    "Memory Usage: 13.2 MB, less than 60.49% of Python3 online submissions for Symmetric Tree."
   ]
  }
 ],
 "metadata": {
  "kernelspec": {
   "display_name": "Python 3",
   "language": "python",
   "name": "python3"
  },
  "language_info": {
   "codemirror_mode": {
    "name": "ipython",
    "version": 3
   },
   "file_extension": ".py",
   "mimetype": "text/x-python",
   "name": "python",
   "nbconvert_exporter": "python",
   "pygments_lexer": "ipython3",
   "version": "3.7.0"
  }
 },
 "nbformat": 4,
 "nbformat_minor": 2
}
