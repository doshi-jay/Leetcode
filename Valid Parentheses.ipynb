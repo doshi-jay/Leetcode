{
 "cells": [
  {
   "cell_type": "markdown",
   "metadata": {},
   "source": [
    "# Valid Parentheses"
   ]
  },
  {
   "cell_type": "markdown",
   "metadata": {},
   "source": [
    "Given a string containing just the characters <code>'(', ')', '{', '}', '['</code> and <code>']'</code>, determine if the input string is valid.\n",
    "\n",
    "An input string is valid if:\n",
    "\n",
    "    Open brackets must be closed by the same type of brackets.\n",
    "    Open brackets must be closed in the correct order.\n",
    "\n",
    "Note that an empty string is also considered valid.\n",
    "\n",
    "\n",
    "Example 1:\n",
    "\n",
    "<code>Input: \"()\"\n",
    "Output: true</code>\n",
    "\n",
    "Example 2:\n",
    "\n",
    "<code>Input: \"()[]{}\"\n",
    "Output: true</code>\n",
    "\n",
    "Example 3:\n",
    "\n",
    "<code>Input: \"(]\"\n",
    "Output: false</code>\n",
    "\n",
    "Example 4:\n",
    "\n",
    "<code>Input: \"([)]\"\n",
    "Output: false</code>\n",
    "\n",
    "Example 5:\n",
    "\n",
    "<code>Input: \"{[]}\"\n",
    "Output: true</code>\n"
   ]
  },
  {
   "cell_type": "code",
   "execution_count": 1,
   "metadata": {},
   "outputs": [],
   "source": [
    "class Solution:\n",
    "    def isValid(self, s):\n",
    "        \"\"\"\n",
    "        :type s: str\n",
    "        :rtype: bool\n",
    "        \"\"\"\n",
    "        \n",
    "        brackets = []\n",
    "        close_brackets = dict()\n",
    "        close_brackets[\"}\"] = \"{\"\n",
    "        close_brackets[\")\"] = \"(\"\n",
    "        close_brackets[\"]\"] = \"[\"\n",
    "        \n",
    "        isValid = True\n",
    "        for b in s:\n",
    "            if b in close_brackets:\n",
    "                if len(brackets) == 0 or brackets[-1] != close_brackets[b]:\n",
    "                    return False\n",
    "                else:\n",
    "                    brackets.pop()\n",
    "            else:\n",
    "                brackets.append(b)\n",
    "        \n",
    "        \n",
    "        return True if len(brackets) == 0 else False"
   ]
  },
  {
   "cell_type": "markdown",
   "metadata": {},
   "source": [
    "Runtime: 36 ms, faster than 90.03% of Python3 online submissions for Valid Parentheses.\n",
    "Memory Usage: 12.9 MB, less than 86.82% of Python3 online submissions for Valid Parentheses."
   ]
  }
 ],
 "metadata": {
  "kernelspec": {
   "display_name": "Python 3",
   "language": "python",
   "name": "python3"
  },
  "language_info": {
   "codemirror_mode": {
    "name": "ipython",
    "version": 3
   },
   "file_extension": ".py",
   "mimetype": "text/x-python",
   "name": "python",
   "nbconvert_exporter": "python",
   "pygments_lexer": "ipython3",
   "version": "3.7.0"
  }
 },
 "nbformat": 4,
 "nbformat_minor": 2
}
