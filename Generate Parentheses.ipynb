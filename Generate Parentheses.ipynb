{
 "cells": [
  {
   "cell_type": "markdown",
   "metadata": {},
   "source": [
    "# Generate Parentheses"
   ]
  },
  {
   "cell_type": "markdown",
   "metadata": {},
   "source": [
    " Given n pairs of parentheses, write a function to generate all combinations of well-formed parentheses.\n",
    "\n",
    "For example, given n = 3, a solution set is:\n",
    "\n",
    "<code>[\n",
    "  \"((()))\",\n",
    "  \"(()())\",\n",
    "  \"(())()\",\n",
    "  \"()(())\",\n",
    "  \"()()()\"\n",
    "]</code>"
   ]
  },
  {
   "cell_type": "code",
   "execution_count": 1,
   "metadata": {},
   "outputs": [],
   "source": [
    "class Solution:\n",
    "    \n",
    "    def addBrackets(self,string, nopen, nclose, final_list):\n",
    "        if nclose + nopen == 0:\n",
    "            final_list.append(string)\n",
    "        if nopen > 0:\n",
    "            self.addBrackets(string + \"(\", nopen - 1, nclose, final_list)\n",
    "        if nclose > nopen:\n",
    "            self.addBrackets(string + \")\", nopen, nclose - 1, final_list)\n",
    "        return final_list\n",
    "        \n",
    "    def generateParenthesis(self, n):\n",
    "        return self.addBrackets(\"\", n, n, [])\n",
    "        "
   ]
  },
  {
   "cell_type": "markdown",
   "metadata": {},
   "source": [
    "Runtime: 40 ms, faster than 91.01% of Python3 online submissions for Generate Parentheses.\n",
    "Memory Usage: 13.3 MB, less than 68.76% of Python3 online submissions for Generate Parentheses."
   ]
  }
 ],
 "metadata": {
  "kernelspec": {
   "display_name": "Python 3",
   "language": "python",
   "name": "python3"
  },
  "language_info": {
   "codemirror_mode": {
    "name": "ipython",
    "version": 3
   },
   "file_extension": ".py",
   "mimetype": "text/x-python",
   "name": "python",
   "nbconvert_exporter": "python",
   "pygments_lexer": "ipython3",
   "version": "3.7.0"
  }
 },
 "nbformat": 4,
 "nbformat_minor": 2
}
