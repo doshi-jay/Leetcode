{
 "cells": [
  {
   "cell_type": "markdown",
   "metadata": {},
   "source": [
    "# Merge Two Sorted Lists"
   ]
  },
  {
   "cell_type": "markdown",
   "metadata": {},
   "source": [
    "Merge two sorted linked lists and return it as a new list. The new list should be made by splicing together the nodes of the first two lists.\n",
    "\n",
    "Example:\n",
    "\n",
    "<code>Input: 1->2->4, 1->3->4\n",
    "Output: 1->1->2->3->4->4</code>\n"
   ]
  },
  {
   "cell_type": "raw",
   "metadata": {},
   "source": [
    "/**\n",
    " * Definition for singly-linked list.\n",
    " * struct ListNode {\n",
    " *     int val;\n",
    " *     ListNode *next;\n",
    " *     ListNode(int x) : val(x), next(NULL) {}\n",
    " * };\n",
    " */\n",
    "\n",
    "\n",
    "class Solution {\n",
    "public:\n",
    "    ListNode* mergeTwoLists(ListNode* l1, ListNode* l2) {\n",
    "        \n",
    "        ListNode* finalList = NULL;\n",
    "        ListNode* currPtr = NULL;\n",
    "        while(l1 != NULL &&  l2 != NULL){\n",
    "            ListNode* node;\n",
    "            if (l1->val > l2->val){\n",
    "                node = new ListNode(l2->val);\n",
    "                l2 = l2->next;\n",
    "            }\n",
    "            else{\n",
    "                node = new ListNode(l1->val);\n",
    "                l1 = l1->next;\n",
    "            }\n",
    "            if(finalList != NULL){\n",
    "                currPtr->next = node;\n",
    "                currPtr = node;\n",
    "            }\n",
    "            else{\n",
    "                finalList = node;\n",
    "                currPtr = node;\n",
    "            }\n",
    "        }\n",
    "        \n",
    "        if(l1 == NULL){\n",
    "            while(l2 != NULL){\n",
    "                ListNode* node = new ListNode(l2->val);\n",
    "                if(currPtr != NULL){\n",
    "                    currPtr->next = node;    \n",
    "                }\n",
    "                else{\n",
    "                    finalList = node;    \n",
    "                } \n",
    "                currPtr = node;\n",
    "                l2 = l2->next;\n",
    "            }\n",
    "        }\n",
    "        \n",
    "        if(l2 == NULL){\n",
    "            while(l1 != NULL){\n",
    "                ListNode* node = new ListNode(l1->val);\n",
    "                if(currPtr != NULL){\n",
    "                    currPtr->next = node;    \n",
    "                } \n",
    "                else{\n",
    "                    finalList = node;    \n",
    "                }\n",
    "                currPtr = node;\n",
    "                l1 = l1->next;\n",
    "            }\n",
    "        }\n",
    "        \n",
    "        return finalList;\n",
    "    }\n",
    "};"
   ]
  },
  {
   "cell_type": "markdown",
   "metadata": {},
   "source": [
    "The above solution is in C++"
   ]
  }
 ],
 "metadata": {
  "kernelspec": {
   "display_name": "Python 3",
   "language": "python",
   "name": "python3"
  },
  "language_info": {
   "codemirror_mode": {
    "name": "ipython",
    "version": 3
   },
   "file_extension": ".py",
   "mimetype": "text/x-python",
   "name": "python",
   "nbconvert_exporter": "python",
   "pygments_lexer": "ipython3",
   "version": "3.7.0"
  }
 },
 "nbformat": 4,
 "nbformat_minor": 2
}
