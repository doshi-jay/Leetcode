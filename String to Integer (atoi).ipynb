{
 "cells": [
  {
   "cell_type": "markdown",
   "metadata": {},
   "source": [
    "# String to Integer (atoi)"
   ]
  },
  {
   "cell_type": "markdown",
   "metadata": {},
   "source": [
    "Implement atoi which converts a string to an integer.\n",
    "\n",
    "The function first discards as many whitespace characters as necessary until the first non-whitespace character is found. Then, starting from this character, takes an optional initial plus or minus sign followed by as many numerical digits as possible, and interprets them as a numerical value.\n",
    "\n",
    "The string can contain additional characters after those that form the integral number, which are ignored and have no effect on the behavior of this function.\n",
    "\n",
    "If the first sequence of non-whitespace characters in str is not a valid integral number, or if no such sequence exists because either str is empty or it contains only whitespace characters, no conversion is performed.\n",
    "\n",
    "If no valid conversion could be performed, a zero value is returned.\n",
    "\n",
    "Note:\n",
    "\n",
    "    Only the space character ' ' is considered as whitespace character.\n",
    "    Assume we are dealing with an environment which could only store integers within the 32-bit signed integer range: [−231,  231 − 1]. If the numerical value is out of the range of representable values, INT_MAX (231 − 1) or INT_MIN (−231) is returned.\n",
    "\n",
    "\n",
    "<code>Example 1:\n",
    "\n",
    "Input: \"42\"\n",
    "Output: 42</code>\n",
    "\n",
    "<code>Example 2:\n",
    "\n",
    "Input: \"   -42\"\n",
    "Output: -42</code>\n",
    "<br>Explanation: The first non-whitespace character is '-', which is the minus sign.\n",
    "             Then take as many numerical digits as possible, which gets 42.\n",
    "\n",
    "<code>Example 3:\n",
    "\n",
    "Input: \"4193 with words\"\n",
    "Output: 4193</code>\n",
    "<br>Explanation: Conversion stops at digit '3' as the next character is not a numerical digit.\n",
    "\n",
    "<code>Example 4:\n",
    "\n",
    "Input: \"words and 987\"\n",
    "Output: 0</code>\n",
    "<br>Explanation: The first non-whitespace character is 'w', which is not a numerical \n",
    "             digit or a +/- sign. Therefore no valid conversion could be performed.\n",
    "\n",
    "<code>Example 5:\n",
    "\n",
    "Input: \"-91283472332\"\n",
    "Output: -2147483648</code>\n",
    "<br>Explanation: The number \"-91283472332\" is out of the range of a 32-bit signed integer.\n",
    "             Thefore INT_MIN (−231) is returned.\n",
    "\n"
   ]
  },
  {
   "cell_type": "code",
   "execution_count": 2,
   "metadata": {},
   "outputs": [],
   "source": [
    "class Solution:\n",
    "    def myAtoi(self, str):\n",
    "        index = 0\n",
    "        while index < len(str):\n",
    "            if str[index] == ' ':\n",
    "                index += 1\n",
    "            else:\n",
    "                break\n",
    "                \n",
    "        isNeg = False\n",
    "        first_word = str[index:].split(\" \")[0].split(\".\")[0]\n",
    "        \n",
    "        if first_word == \"\":\n",
    "            return 0\n",
    "            \n",
    "        valid_word = \"\"\n",
    "        for index in range(len(first_word)):\n",
    "            if first_word[index] == '-' and index == 0:\n",
    "                isNeg = True\n",
    "            elif first_word[index] == '+'and index == 0:\n",
    "                continue\n",
    "            elif first_word[index].isdigit():\n",
    "                if valid_word == \"\" and int(first_word[index]) == 0:\n",
    "                    continue\n",
    "                else:\n",
    "                    valid_word += first_word[index]\n",
    "            else:\n",
    "                break\n",
    "\n",
    "        if valid_word == \"\":\n",
    "            return 0\n",
    "        \n",
    "        if int(valid_word) > (2**31 - 1):\n",
    "            if isNeg:\n",
    "                return - 2**31\n",
    "            else:\n",
    "                return 2**31 - 1\n",
    "        else:\n",
    "            return int(valid_word) if not isNeg else -int(valid_word)"
   ]
  },
  {
   "cell_type": "markdown",
   "metadata": {},
   "source": [
    "Runtime: 44 ms, faster than 93.86% of Python3 online submissions for String to Integer (atoi).\n",
    "Memory Usage: 13.1 MB, less than 79.57% of Python3 online submissions for String to Integer (atoi)."
   ]
  }
 ],
 "metadata": {
  "kernelspec": {
   "display_name": "Python 3",
   "language": "python",
   "name": "python3"
  },
  "language_info": {
   "codemirror_mode": {
    "name": "ipython",
    "version": 3
   },
   "file_extension": ".py",
   "mimetype": "text/x-python",
   "name": "python",
   "nbconvert_exporter": "python",
   "pygments_lexer": "ipython3",
   "version": "3.7.0"
  }
 },
 "nbformat": 4,
 "nbformat_minor": 2
}
