{
 "cells": [
  {
   "cell_type": "markdown",
   "metadata": {},
   "source": [
    "# 169. Majority Element"
   ]
  },
  {
   "cell_type": "markdown",
   "metadata": {},
   "source": [
    "iven an array of size n, find the majority element. The majority element is the element that appears more than ⌊ n/2 ⌋ times.\n",
    "\n",
    "You may assume that the array is non-empty and the majority element always exist in the array.\n",
    "\n",
    "Example 1:\n",
    "\n",
    "<code>Input: [3,2,3]\n",
    "Output: 3</code>\n",
    "\n",
    "Example 2:\n",
    "\n",
    "<code>Input: [2,2,1,1,1,2,2]\n",
    "Output: 2</code>"
   ]
  },
  {
   "cell_type": "code",
   "execution_count": 2,
   "metadata": {},
   "outputs": [],
   "source": [
    "class Solution:\n",
    "    def majorityElement(self, nums) -> int:\n",
    "        import collections\n",
    "        counts = collections.defaultdict(lambda:0)\n",
    "\n",
    "        len_ = len(nums)/2\n",
    "        \n",
    "        for num in nums:\n",
    "            if counts[num] > len_:\n",
    "                return num\n",
    "            counts[num] += 1\n",
    "            \n",
    "        import operator\n",
    "        return sorted(counts.items(), key=operator.itemgetter(1), reverse=True)[0][0]"
   ]
  },
  {
   "cell_type": "markdown",
   "metadata": {},
   "source": [
    "Runtime: 56 ms, faster than 46.38% of Python3 online submissions for Majority Element.<br>\n",
    "Memory Usage: 14.2 MB, less than 85.86% of Python3 online submissions for Majority Element."
   ]
  },
  {
   "cell_type": "code",
   "execution_count": null,
   "metadata": {},
   "outputs": [],
   "source": []
  }
 ],
 "metadata": {
  "kernelspec": {
   "display_name": "Python 3",
   "language": "python",
   "name": "python3"
  },
  "language_info": {
   "codemirror_mode": {
    "name": "ipython",
    "version": 3
   },
   "file_extension": ".py",
   "mimetype": "text/x-python",
   "name": "python",
   "nbconvert_exporter": "python",
   "pygments_lexer": "ipython3",
   "version": "3.7.0"
  }
 },
 "nbformat": 4,
 "nbformat_minor": 2
}
